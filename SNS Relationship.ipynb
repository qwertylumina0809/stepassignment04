{
 "cells": [
  {
   "cell_type": "code",
   "execution_count": 1,
   "metadata": {},
   "outputs": [],
   "source": [
    "#Read data:link and nicknames\n",
    "lines = []\n",
    "with open('links.txt') as f:\n",
    "    lines = f.readlines()\n",
    "f.close()\n",
    "\n",
    "nicknames = []\n",
    "with open('nicknames.txt') as f:\n",
    "    nicknames = f.readlines()\n",
    "f.close()"
   ]
  },
  {
   "cell_type": "code",
   "execution_count": 2,
   "metadata": {},
   "outputs": [],
   "source": [
    "#Make dictionary: number&nickname\n",
    "number_to_name = dict()\n",
    "for name in nicknames:\n",
    "    number_to_name[str(name.split('\\t')[0])] = name.split('\\t')[1].split('\\n')[0]\n",
    "    \n",
    "name_to_number = dict()\n",
    "for name in nicknames:\n",
    "    name_to_number[name.split('\\t')[1].split('\\n')[0]] = str(name.split('\\t')[0])\n",
    "    "
   ]
  },
  {
   "cell_type": "code",
   "execution_count": 3,
   "metadata": {},
   "outputs": [],
   "source": [
    "#Adjaceny list\n",
    "\n",
    "adjacency_list = []\n",
    "last_index = 0\n",
    "followed_list = []\n",
    "missed_num = []\n",
    "\n",
    "for line in lines:\n",
    "    \n",
    "    index = int(line.split('\\t')[0])\n",
    "    have_followed = int(line.split('\\t')[1].split('\\n')[0])\n",
    "    \n",
    "    if index == last_index:\n",
    "        followed_list.append(have_followed)\n",
    "    elif index - last_index == 1:\n",
    "        adjacency_list.append(followed_list)\n",
    "        last_index = index\n",
    "        followed_list = []\n",
    "        if missed_num:\n",
    "            followed_list += missed_num\n",
    "        followed_list.append(have_followed)\n",
    "        missed_num = []\n",
    "    else:\n",
    "        adjacency_list.append(followed_list)\n",
    "        followed_list = []\n",
    "        missed_num.append(have_followed)\n",
    "        last_index += 1\n",
    "adjacency_list.append(followed_list)\n"
   ]
  },
  {
   "cell_type": "code",
   "execution_count": 4,
   "metadata": {},
   "outputs": [],
   "source": [
    "#Adjacenct Matrix\n",
    "import numpy as np\n",
    "adjacency_matrix = np.zeros((54,54))\n",
    "shape = len(adjacency_list)\n",
    "for a in range(shape):\n",
    "    for b in adjacency_list[a]:\n",
    "        adjacency_matrix[a][b] = 1\n"
   ]
  },
  {
   "cell_type": "code",
   "execution_count": 5,
   "metadata": {},
   "outputs": [],
   "source": [
    "start = int(name_to_number['adrian'])\n",
    "target = int(name_to_number['jaime'])"
   ]
  },
  {
   "cell_type": "code",
   "execution_count": 6,
   "metadata": {},
   "outputs": [],
   "source": [
    "class Node:\n",
    "    def __init__(self,node=None,following=None,distance=None,followed=None):\n",
    "        self.node = node\n",
    "        self.status = False # Haven't been visited\n",
    "        self.following = following\n",
    "        self.distance = 0\n",
    "        self.followed = []\n",
    "\n",
    "node_list = []\n",
    "index = 0\n",
    "for a in adjacency_list:\n",
    "    node_list.append(Node(index,a,0))\n",
    "    index += 1"
   ]
  },
  {
   "cell_type": "code",
   "execution_count": 7,
   "metadata": {},
   "outputs": [],
   "source": [
    "#BFS:find the shortest root\n",
    "from collections import deque\n",
    "\n",
    "def BFS(start,target,node_list):\n",
    "    \n",
    "    queue = deque()\n",
    "    queue.append(node_list[start].node)\n",
    "    \n",
    "    while len(queue) > 0:\n",
    "        \n",
    "        current_node = queue.popleft()\n",
    "        node_list[current_node].status = True\n",
    "        \n",
    "        \n",
    "        if target == current_node:\n",
    "            print('Adrian can reach Jaime by following the link')\n",
    "            print('link',node_list[current_node].followed)\n",
    "            print('distance',node_list[current_node].distance)\n",
    "            break\n",
    "        else:\n",
    "            for following_nodes in node_list[current_node].following:\n",
    "                if node_list[following_nodes].status == False:\n",
    "                    queue.append(node_list[following_nodes].node)\n",
    "                    node_list[following_nodes].status = True\n",
    "                    node_list[following_nodes].followed.append(node_list[current_node].node)\n",
    "                    node_list[following_nodes].followed += node_list[current_node].followed\n",
    "                    node_list[following_nodes].distance = node_list[current_node].distance + 1\n"
   ]
  },
  {
   "cell_type": "code",
   "execution_count": 8,
   "metadata": {},
   "outputs": [
    {
     "name": "stdout",
     "output_type": "stream",
     "text": [
      "Adrian can reach Jaime by following the link\n",
      "link [5, 24, 1]\n",
      "distance 3\n"
     ]
    }
   ],
   "source": [
    "BFS(start,target,node_list)"
   ]
  },
  {
   "cell_type": "code",
   "execution_count": 67,
   "metadata": {},
   "outputs": [],
   "source": [
    "#Q1 station question\n",
    "\n",
    "#read station data\n",
    "\n",
    "station_dict = {}\n",
    "with open('stations.txt') as f:\n",
    "    lines = f.readlines()\n",
    "f.close()\n",
    "for line in lines:\n",
    "    eki_id = int(line.split('\\t')[0])\n",
    "    eki_name = line.split('\\t')[1].strip()\n",
    "    station_dict[eki_id] = eki_name\n",
    "\n",
    "    \n",
    "#read time data\n",
    "station_time = [0]*250\n",
    "with open('edges.txt') as f:\n",
    "    lines = f.readlines()\n",
    "f.close()\n",
    "for line in lines:\n",
    "    split_by_tab = line.split('\\t')\n",
    "    start = int(split_by_tab[0])\n",
    "    if not station_time[start]:\n",
    "        station_time[start] = [[int(split_by_tab[1]),int(split_by_tab[2])]]\n",
    "    else:\n",
    "        station_time[start].append([int(split_by_tab[1]),int(split_by_tab[2])])\n",
    "    "
   ]
  },
  {
   "cell_type": "code",
   "execution_count": 59,
   "metadata": {},
   "outputs": [],
   "source": [
    "#DFS\n",
    "def DFS(target,node_list,start_node):\n",
    "    \n",
    "    node_list[start_node].status = True\n",
    "    \n",
    "    for node in node_list[start_node].following:\n",
    "        node.distance = start_node.distance + 1\n",
    "        node.followed = start_node.followed\n",
    "        if node == target:\n",
    "            node_list[node].status = True\n",
    "            print('Adrian can reach Jaime by following the link')\n",
    "            print('length',node_list[node].distance)\n",
    "        else:\n",
    "            if not node_list[node].status == True:\n",
    "                last_node = start_node\n",
    "                DFS(node,target,node_list,last_node)\n"
   ]
  }
 ],
 "metadata": {
  "kernelspec": {
   "display_name": "Python 3",
   "language": "python",
   "name": "python3"
  },
  "language_info": {
   "codemirror_mode": {
    "name": "ipython",
    "version": 3
   },
   "file_extension": ".py",
   "mimetype": "text/x-python",
   "name": "python",
   "nbconvert_exporter": "python",
   "pygments_lexer": "ipython3",
   "version": "3.6.9"
  }
 },
 "nbformat": 4,
 "nbformat_minor": 2
}
